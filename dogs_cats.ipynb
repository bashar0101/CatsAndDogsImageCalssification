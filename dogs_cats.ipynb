{
 "cells": [
  {
   "cell_type": "code",
   "execution_count": 192,
   "metadata": {},
   "outputs": [],
   "source": [
    "# Importing all necessary libraries\n",
    "import os \n",
    "import tensorflow as tf\n",
    "import numpy as np\n",
    "import matplotlib.pyplot as plt\n",
    "import seaborn as sns\n",
    "from tensorflow.keras.preprocessing import image\n",
    "from tensorflow.keras.preprocessing.image import load_img, img_to_array\n",
    "from tensorflow.keras import Sequential\n",
    "from tensorflow.keras.layers import Conv2D, MaxPool2D, Dropout, Flatten, Dense, Input\n",
    "from tensorflow.keras.callbacks import EarlyStopping\n",
    "from sklearn.model_selection import train_test_split\n",
    "from sklearn.metrics import confusion_matrix, accuracy_score, recall_score, precision_score, f1_score, classification_report\n",
    "from tensorflow.keras.optimizers import Adam"
   ]
  },
  {
   "cell_type": "code",
   "execution_count": 193,
   "metadata": {},
   "outputs": [],
   "source": [
    "cat_dirs = ['C:/Users/basha/Downloads/test/cats']\n",
    "dog_dirs = ['C:/Users/basha/Downloads/test/dogs']\n"
   ]
  },
  {
   "cell_type": "code",
   "execution_count": 194,
   "metadata": {},
   "outputs": [],
   "source": [
    "# Function to load images\n",
    "# Function to load images\n",
    "def load_image(paths, label):\n",
    "    images = []\n",
    "    labels = []\n",
    "    \n",
    "    for folder in paths:\n",
    "        print(f\"Looking for images in: {folder}\")\n",
    "        \n",
    "        if not os.path.exists(folder):\n",
    "            print(f\"Error: The folder {folder} does not exist.\")\n",
    "            continue\n",
    "        \n",
    "        for img_name in os.listdir(folder):\n",
    "            img_path = os.path.join(folder, img_name)\n",
    "            \n",
    "            if img_name.lower().endswith(('.png', '.jpg', '.jpeg')):\n",
    "                img = load_img(img_path, target_size=(224, 224))\n",
    "                img_array = img_to_array(img).astype('uint8')\n",
    "                images.append(img_array)\n",
    "                labels.append(label)\n",
    "                \n",
    "            else:\n",
    "                print(f\"Skipping file {img_path} - Unsupported format.\")\n",
    "\n",
    "    images = np.array(images)\n",
    "    labels = np.array(labels)\n",
    "\n",
    "    return images, labels"
   ]
  },
  {
   "cell_type": "code",
   "execution_count": 195,
   "metadata": {},
   "outputs": [
    {
     "name": "stdout",
     "output_type": "stream",
     "text": [
      "Looking for images in: C:/Users/basha/Downloads/test/cats\n",
      "Looking for images in: C:/Users/basha/Downloads/test/dogs\n"
     ]
    }
   ],
   "source": [
    "# Load cat and dog images\n",
    "cat_img, cat_label = load_image(cat_dirs, 0)\n",
    "dog_img, dog_label = load_image(dog_dirs, 1)"
   ]
  },
  {
   "cell_type": "code",
   "execution_count": 196,
   "metadata": {},
   "outputs": [],
   "source": [
    "# Concatenating images and labels\n",
    "X = np.concatenate((cat_img, dog_img), axis=0)\n",
    "y = np.concatenate((cat_label, dog_label), axis=0)"
   ]
  },
  {
   "cell_type": "code",
   "execution_count": 197,
   "metadata": {},
   "outputs": [],
   "source": [
    "# Split the data into training, validation, and test sets\n",
    "X_train, X_test, y_train, y_test = train_test_split(X, y, test_size=0.15, random_state=42, stratify=y)\n",
    "X_test, X_val, y_test, y_val = train_test_split(X_test, y_test, test_size=0.3333, random_state=42, stratify=y_test)\n"
   ]
  },
  {
   "cell_type": "code",
   "execution_count": 198,
   "metadata": {},
   "outputs": [],
   "source": [
    "model = Sequential([\n",
    "\n",
    "    # Input Layer\n",
    "    Input(shape=(224, 224, 3)),\n",
    "\n",
    "    # Convolutional Layer 1\n",
    "    Conv2D(filters=16, kernel_size=(3, 3), activation='relu', padding='same'),\n",
    "    MaxPool2D(pool_size=(2, 2)),\n",
    "    Dropout(0.2),\n",
    "\n",
    "    # Convolutional Layer 2\n",
    "    Conv2D(filters=32, kernel_size=(3, 3), activation='relu', padding='same'),\n",
    "    MaxPool2D(pool_size=(2, 2)),\n",
    "    Dropout(0.3),\n",
    "\n",
    "    # Convolutional Layer 3\n",
    "    Conv2D(filters=64, kernel_size=(3, 3), activation='relu', padding='same'),\n",
    "    MaxPool2D(pool_size=(2, 2)),\n",
    "    Dropout(0.4),\n",
    "\n",
    "    # Convolutional Layer 4\n",
    "    Conv2D(filters=128, kernel_size=(3, 3), activation='relu', padding='same'),\n",
    "    MaxPool2D(pool_size=(2, 2)),\n",
    "    Dropout(0.5),\n",
    "\n",
    "    # Fully Connected Layer (Neural Network)\n",
    "    Flatten(),\n",
    "    Dense(256, activation='relu'),\n",
    "    Dropout(0.5),\n",
    "    \n",
    "\n",
    "    # Output Layer\n",
    "    Dense(1, activation='sigmoid')\n",
    "])"
   ]
  },
  {
   "cell_type": "code",
   "execution_count": 199,
   "metadata": {},
   "outputs": [],
   "source": [
    "# في الشبكات العصبية الالتفافية (CNN)\n",
    "# نحتاج إلى طريقة تساعد النموذج على التعلم وتحسين أدائه أثناء التدريب، وهنا يأتي دور المُحسِّن (Optimizer).\n",
    "\n",
    "# شرح الكود ببساطة:\n",
    "# هذا الكود يستخدم مُحسِّن آدم (Adam Optimizer) للمساعدة في تحديث الأوزان داخل الشبكة العصبية، مما يجعلها تتعلم بشكل أكثر كفاءة.\n",
    "\n",
    "# 🔹 لماذا نستخدم \"آدم\" في CNN؟\n",
    "# ✅ سريع: يعمل بكفاءة حتى مع البيانات الكبيرة والصور المعقدة.\n",
    "# ✅ يتكيف مع البيانات: يعدل معدل التعلم تلقائيًا حسب الحاجة.\n",
    "# ✅ يقلل الأخطاء بسرعة: يساعد النموذج في الوصول إلى أفضل نتيجة دون الحاجة لضبط معدل التعلم يدويًا.\n",
    "\n",
    "# 📌 باختصار: هذا الكود يجعل النموذج يتعلم بطريقة ذكية وسريعة، مما يساعده على تصنيف الصور بدقة عالية. 🚀\n",
    "# Compile the model with Adam optimizer\n",
    "\n",
    "learning_rate = 1e-3\n",
    "model.compile(optimizer=Adam(learning_rate),\n",
    "              loss='binary_crossentropy',\n",
    "              metrics=['accuracy'])"
   ]
  },
  {
   "cell_type": "code",
   "execution_count": 200,
   "metadata": {},
   "outputs": [],
   "source": [
    "# Early stopping callback\n",
    "early_stopping = EarlyStopping(monitor='val_loss', patience=20, restore_best_weights=True)\n"
   ]
  },
  {
   "cell_type": "code",
   "execution_count": 201,
   "metadata": {},
   "outputs": [
    {
     "name": "stdout",
     "output_type": "stream",
     "text": [
      "Epoch 1/62\n",
      "\u001b[1m4/4\u001b[0m \u001b[32m━━━━━━━━━━━━━━━━━━━━\u001b[0m\u001b[37m\u001b[0m \u001b[1m2s\u001b[0m 257ms/step - accuracy: 0.4432 - loss: 420.9146 - val_accuracy: 0.5714 - val_loss: 20.1425\n",
      "Epoch 2/62\n",
      "\u001b[1m4/4\u001b[0m \u001b[32m━━━━━━━━━━━━━━━━━━━━\u001b[0m\u001b[37m\u001b[0m \u001b[1m1s\u001b[0m 214ms/step - accuracy: 0.5006 - loss: 100.3787 - val_accuracy: 0.4286 - val_loss: 1.7403\n",
      "Epoch 3/62\n",
      "\u001b[1m4/4\u001b[0m \u001b[32m━━━━━━━━━━━━━━━━━━━━\u001b[0m\u001b[37m\u001b[0m \u001b[1m1s\u001b[0m 218ms/step - accuracy: 0.4871 - loss: 9.2041 - val_accuracy: 0.4286 - val_loss: 0.7671\n",
      "Epoch 4/62\n",
      "\u001b[1m4/4\u001b[0m \u001b[32m━━━━━━━━━━━━━━━━━━━━\u001b[0m\u001b[37m\u001b[0m \u001b[1m1s\u001b[0m 290ms/step - accuracy: 0.4620 - loss: 1.3012 - val_accuracy: 0.4286 - val_loss: 0.7278\n",
      "Epoch 5/62\n",
      "\u001b[1m4/4\u001b[0m \u001b[32m━━━━━━━━━━━━━━━━━━━━\u001b[0m\u001b[37m\u001b[0m \u001b[1m1s\u001b[0m 242ms/step - accuracy: 0.5219 - loss: 0.8735 - val_accuracy: 0.4286 - val_loss: 0.7171\n",
      "Epoch 6/62\n",
      "\u001b[1m4/4\u001b[0m \u001b[32m━━━━━━━━━━━━━━━━━━━━\u001b[0m\u001b[37m\u001b[0m \u001b[1m1s\u001b[0m 233ms/step - accuracy: 0.5267 - loss: 0.7142 - val_accuracy: 0.4286 - val_loss: 0.7177\n",
      "Epoch 7/62\n",
      "\u001b[1m4/4\u001b[0m \u001b[32m━━━━━━━━━━━━━━━━━━━━\u001b[0m\u001b[37m\u001b[0m \u001b[1m1s\u001b[0m 310ms/step - accuracy: 0.5460 - loss: 0.7009 - val_accuracy: 0.4286 - val_loss: 0.7074\n",
      "Epoch 8/62\n",
      "\u001b[1m4/4\u001b[0m \u001b[32m━━━━━━━━━━━━━━━━━━━━\u001b[0m\u001b[37m\u001b[0m \u001b[1m1s\u001b[0m 366ms/step - accuracy: 0.4885 - loss: 0.6951 - val_accuracy: 0.4286 - val_loss: 0.7026\n",
      "Epoch 9/62\n",
      "\u001b[1m4/4\u001b[0m \u001b[32m━━━━━━━━━━━━━━━━━━━━\u001b[0m\u001b[37m\u001b[0m \u001b[1m1s\u001b[0m 301ms/step - accuracy: 0.4993 - loss: 0.7054 - val_accuracy: 0.4286 - val_loss: 0.7006\n",
      "Epoch 10/62\n",
      "\u001b[1m4/4\u001b[0m \u001b[32m━━━━━━━━━━━━━━━━━━━━\u001b[0m\u001b[37m\u001b[0m \u001b[1m1s\u001b[0m 325ms/step - accuracy: 0.4729 - loss: 0.6982 - val_accuracy: 0.4286 - val_loss: 0.6993\n",
      "Epoch 11/62\n",
      "\u001b[1m4/4\u001b[0m \u001b[32m━━━━━━━━━━━━━━━━━━━━\u001b[0m\u001b[37m\u001b[0m \u001b[1m1s\u001b[0m 247ms/step - accuracy: 0.6051 - loss: 0.6659 - val_accuracy: 0.4286 - val_loss: 0.6981\n",
      "Epoch 12/62\n",
      "\u001b[1m4/4\u001b[0m \u001b[32m━━━━━━━━━━━━━━━━━━━━\u001b[0m\u001b[37m\u001b[0m \u001b[1m1s\u001b[0m 217ms/step - accuracy: 0.4226 - loss: 0.7150 - val_accuracy: 0.4286 - val_loss: 0.6976\n",
      "Epoch 13/62\n",
      "\u001b[1m4/4\u001b[0m \u001b[32m━━━━━━━━━━━━━━━━━━━━\u001b[0m\u001b[37m\u001b[0m \u001b[1m1s\u001b[0m 212ms/step - accuracy: 0.5334 - loss: 0.6995 - val_accuracy: 0.4286 - val_loss: 0.6973\n",
      "Epoch 14/62\n",
      "\u001b[1m4/4\u001b[0m \u001b[32m━━━━━━━━━━━━━━━━━━━━\u001b[0m\u001b[37m\u001b[0m \u001b[1m1s\u001b[0m 213ms/step - accuracy: 0.4821 - loss: 0.7063 - val_accuracy: 0.4286 - val_loss: 0.6970\n",
      "Epoch 15/62\n",
      "\u001b[1m4/4\u001b[0m \u001b[32m━━━━━━━━━━━━━━━━━━━━\u001b[0m\u001b[37m\u001b[0m \u001b[1m1s\u001b[0m 229ms/step - accuracy: 0.5500 - loss: 0.6966 - val_accuracy: 0.4286 - val_loss: 0.6967\n",
      "Epoch 16/62\n",
      "\u001b[1m4/4\u001b[0m \u001b[32m━━━━━━━━━━━━━━━━━━━━\u001b[0m\u001b[37m\u001b[0m \u001b[1m1s\u001b[0m 219ms/step - accuracy: 0.5123 - loss: 0.6816 - val_accuracy: 0.4286 - val_loss: 0.6964\n",
      "Epoch 17/62\n",
      "\u001b[1m4/4\u001b[0m \u001b[32m━━━━━━━━━━━━━━━━━━━━\u001b[0m\u001b[37m\u001b[0m \u001b[1m1s\u001b[0m 263ms/step - accuracy: 0.5038 - loss: 0.7059 - val_accuracy: 0.4286 - val_loss: 0.6961\n",
      "Epoch 18/62\n",
      "\u001b[1m4/4\u001b[0m \u001b[32m━━━━━━━━━━━━━━━━━━━━\u001b[0m\u001b[37m\u001b[0m \u001b[1m1s\u001b[0m 222ms/step - accuracy: 0.5633 - loss: 0.6854 - val_accuracy: 0.4286 - val_loss: 0.6958\n",
      "Epoch 19/62\n",
      "\u001b[1m4/4\u001b[0m \u001b[32m━━━━━━━━━━━━━━━━━━━━\u001b[0m\u001b[37m\u001b[0m \u001b[1m1s\u001b[0m 215ms/step - accuracy: 0.5163 - loss: 0.6955 - val_accuracy: 0.7143 - val_loss: 0.6957\n",
      "Epoch 20/62\n",
      "\u001b[1m4/4\u001b[0m \u001b[32m━━━━━━━━━━━━━━━━━━━━\u001b[0m\u001b[37m\u001b[0m \u001b[1m1s\u001b[0m 233ms/step - accuracy: 0.4478 - loss: 0.7117 - val_accuracy: 0.7143 - val_loss: 0.6957\n",
      "Epoch 21/62\n",
      "\u001b[1m4/4\u001b[0m \u001b[32m━━━━━━━━━━━━━━━━━━━━\u001b[0m\u001b[37m\u001b[0m \u001b[1m1s\u001b[0m 243ms/step - accuracy: 0.5274 - loss: 0.6916 - val_accuracy: 0.7143 - val_loss: 0.6956\n",
      "Epoch 22/62\n",
      "\u001b[1m4/4\u001b[0m \u001b[32m━━━━━━━━━━━━━━━━━━━━\u001b[0m\u001b[37m\u001b[0m \u001b[1m1s\u001b[0m 231ms/step - accuracy: 0.5225 - loss: 0.6932 - val_accuracy: 0.7143 - val_loss: 0.6955\n",
      "Epoch 23/62\n",
      "\u001b[1m4/4\u001b[0m \u001b[32m━━━━━━━━━━━━━━━━━━━━\u001b[0m\u001b[37m\u001b[0m \u001b[1m1s\u001b[0m 217ms/step - accuracy: 0.5684 - loss: 0.6872 - val_accuracy: 0.7143 - val_loss: 0.6954\n",
      "Epoch 24/62\n",
      "\u001b[1m4/4\u001b[0m \u001b[32m━━━━━━━━━━━━━━━━━━━━\u001b[0m\u001b[37m\u001b[0m \u001b[1m1s\u001b[0m 235ms/step - accuracy: 0.4843 - loss: 0.6985 - val_accuracy: 0.7143 - val_loss: 0.6955\n",
      "Epoch 25/62\n",
      "\u001b[1m4/4\u001b[0m \u001b[32m━━━━━━━━━━━━━━━━━━━━\u001b[0m\u001b[37m\u001b[0m \u001b[1m1s\u001b[0m 203ms/step - accuracy: 0.4704 - loss: 0.6954 - val_accuracy: 0.7143 - val_loss: 0.6956\n",
      "Epoch 26/62\n",
      "\u001b[1m4/4\u001b[0m \u001b[32m━━━━━━━━━━━━━━━━━━━━\u001b[0m\u001b[37m\u001b[0m \u001b[1m1s\u001b[0m 216ms/step - accuracy: 0.6168 - loss: 0.6732 - val_accuracy: 0.7143 - val_loss: 0.6957\n",
      "Epoch 27/62\n",
      "\u001b[1m4/4\u001b[0m \u001b[32m━━━━━━━━━━━━━━━━━━━━\u001b[0m\u001b[37m\u001b[0m \u001b[1m1s\u001b[0m 201ms/step - accuracy: 0.4661 - loss: 0.6905 - val_accuracy: 0.7143 - val_loss: 0.6957\n",
      "Epoch 28/62\n",
      "\u001b[1m4/4\u001b[0m \u001b[32m━━━━━━━━━━━━━━━━━━━━\u001b[0m\u001b[37m\u001b[0m \u001b[1m1s\u001b[0m 213ms/step - accuracy: 0.5300 - loss: 0.6923 - val_accuracy: 0.7143 - val_loss: 0.6959\n",
      "Epoch 29/62\n",
      "\u001b[1m4/4\u001b[0m \u001b[32m━━━━━━━━━━━━━━━━━━━━\u001b[0m\u001b[37m\u001b[0m \u001b[1m1s\u001b[0m 225ms/step - accuracy: 0.4429 - loss: 0.6942 - val_accuracy: 0.7143 - val_loss: 0.6961\n",
      "Epoch 30/62\n",
      "\u001b[1m4/4\u001b[0m \u001b[32m━━━━━━━━━━━━━━━━━━━━\u001b[0m\u001b[37m\u001b[0m \u001b[1m1s\u001b[0m 228ms/step - accuracy: 0.4491 - loss: 0.6966 - val_accuracy: 0.7143 - val_loss: 0.6961\n",
      "Epoch 31/62\n",
      "\u001b[1m4/4\u001b[0m \u001b[32m━━━━━━━━━━━━━━━━━━━━\u001b[0m\u001b[37m\u001b[0m \u001b[1m1s\u001b[0m 231ms/step - accuracy: 0.4323 - loss: 0.7068 - val_accuracy: 0.7143 - val_loss: 0.6960\n",
      "Epoch 32/62\n",
      "\u001b[1m4/4\u001b[0m \u001b[32m━━━━━━━━━━━━━━━━━━━━\u001b[0m\u001b[37m\u001b[0m \u001b[1m1s\u001b[0m 229ms/step - accuracy: 0.4526 - loss: 0.6951 - val_accuracy: 0.7143 - val_loss: 0.6960\n",
      "Epoch 33/62\n",
      "\u001b[1m4/4\u001b[0m \u001b[32m━━━━━━━━━━━━━━━━━━━━\u001b[0m\u001b[37m\u001b[0m \u001b[1m1s\u001b[0m 212ms/step - accuracy: 0.4146 - loss: 0.7004 - val_accuracy: 0.7143 - val_loss: 0.6960\n",
      "Epoch 34/62\n",
      "\u001b[1m4/4\u001b[0m \u001b[32m━━━━━━━━━━━━━━━━━━━━\u001b[0m\u001b[37m\u001b[0m \u001b[1m1s\u001b[0m 227ms/step - accuracy: 0.5046 - loss: 0.6925 - val_accuracy: 0.7143 - val_loss: 0.6961\n",
      "Epoch 35/62\n",
      "\u001b[1m4/4\u001b[0m \u001b[32m━━━━━━━━━━━━━━━━━━━━\u001b[0m\u001b[37m\u001b[0m \u001b[1m1s\u001b[0m 222ms/step - accuracy: 0.4861 - loss: 0.6957 - val_accuracy: 0.5714 - val_loss: 0.6962\n",
      "Epoch 36/62\n",
      "\u001b[1m4/4\u001b[0m \u001b[32m━━━━━━━━━━━━━━━━━━━━\u001b[0m\u001b[37m\u001b[0m \u001b[1m1s\u001b[0m 222ms/step - accuracy: 0.4661 - loss: 0.6977 - val_accuracy: 0.5714 - val_loss: 0.6962\n",
      "Epoch 37/62\n",
      "\u001b[1m4/4\u001b[0m \u001b[32m━━━━━━━━━━━━━━━━━━━━\u001b[0m\u001b[37m\u001b[0m \u001b[1m1s\u001b[0m 211ms/step - accuracy: 0.4241 - loss: 0.7074 - val_accuracy: 0.5714 - val_loss: 0.6962\n",
      "Epoch 38/62\n",
      "\u001b[1m4/4\u001b[0m \u001b[32m━━━━━━━━━━━━━━━━━━━━\u001b[0m\u001b[37m\u001b[0m \u001b[1m1s\u001b[0m 203ms/step - accuracy: 0.5231 - loss: 0.6830 - val_accuracy: 0.5714 - val_loss: 0.6961\n",
      "Epoch 39/62\n",
      "\u001b[1m4/4\u001b[0m \u001b[32m━━━━━━━━━━━━━━━━━━━━\u001b[0m\u001b[37m\u001b[0m \u001b[1m1s\u001b[0m 206ms/step - accuracy: 0.5126 - loss: 0.6964 - val_accuracy: 0.5714 - val_loss: 0.6960\n",
      "Epoch 40/62\n",
      "\u001b[1m4/4\u001b[0m \u001b[32m━━━━━━━━━━━━━━━━━━━━\u001b[0m\u001b[37m\u001b[0m \u001b[1m1s\u001b[0m 207ms/step - accuracy: 0.4806 - loss: 0.7011 - val_accuracy: 0.5714 - val_loss: 0.6957\n",
      "Epoch 41/62\n",
      "\u001b[1m4/4\u001b[0m \u001b[32m━━━━━━━━━━━━━━━━━━━━\u001b[0m\u001b[37m\u001b[0m \u001b[1m1s\u001b[0m 215ms/step - accuracy: 0.4535 - loss: 0.6989 - val_accuracy: 0.5714 - val_loss: 0.6956\n",
      "Epoch 42/62\n",
      "\u001b[1m4/4\u001b[0m \u001b[32m━━━━━━━━━━━━━━━━━━━━\u001b[0m\u001b[37m\u001b[0m \u001b[1m1s\u001b[0m 209ms/step - accuracy: 0.6360 - loss: 0.6808 - val_accuracy: 0.5714 - val_loss: 0.6957\n",
      "Epoch 43/62\n",
      "\u001b[1m4/4\u001b[0m \u001b[32m━━━━━━━━━━━━━━━━━━━━\u001b[0m\u001b[37m\u001b[0m \u001b[1m1s\u001b[0m 208ms/step - accuracy: 0.5450 - loss: 0.6865 - val_accuracy: 0.4286 - val_loss: 0.6957\n"
     ]
    }
   ],
   "source": [
    "# Train the model\n",
    "history = model.fit(\n",
    "    X_train, y_train,\n",
    "    epochs=62,\n",
    "    validation_data=(X_val, y_val),\n",
    "    callbacks=[early_stopping]\n",
    ")"
   ]
  },
  {
   "cell_type": "code",
   "execution_count": 202,
   "metadata": {},
   "outputs": [
    {
     "name": "stderr",
     "output_type": "stream",
     "text": [
      "WARNING:absl:You are saving your model as an HDF5 file via `model.save()` or `keras.saving.save_model(model)`. This file format is considered legacy. We recommend using instead the native Keras format, e.g. `model.save('my_model.keras')` or `keras.saving.save_model(model, 'my_model.keras')`. \n"
     ]
    }
   ],
   "source": [
    "# Save the trained model\n",
    "model.save(\"my_cnn_model.h5\")"
   ]
  },
  {
   "cell_type": "code",
   "execution_count": 203,
   "metadata": {},
   "outputs": [
    {
     "name": "stdout",
     "output_type": "stream",
     "text": [
      "\u001b[1m1/1\u001b[0m \u001b[32m━━━━━━━━━━━━━━━━━━━━\u001b[0m\u001b[37m\u001b[0m \u001b[1m0s\u001b[0m 127ms/step\n"
     ]
    }
   ],
   "source": [
    "# Make predictions\n",
    "y_pred_prob = model.predict(X_test)\n",
    "y_pred = (y_pred_prob > 0.5).astype(int).ravel()\n"
   ]
  },
  {
   "cell_type": "code",
   "execution_count": 204,
   "metadata": {},
   "outputs": [
    {
     "name": "stdout",
     "output_type": "stream",
     "text": [
      "Accuracy: 0.5\n",
      "Recall: 0.0\n",
      "Precision: 0.0\n",
      "F1 Score: 0.0\n",
      "\n",
      "Class-wise metrics:\n",
      "              precision    recall  f1-score   support\n",
      "\n",
      "         cat       0.50      1.00      0.67         7\n",
      "         dog       0.00      0.00      0.00         7\n",
      "\n",
      "    accuracy                           0.50        14\n",
      "   macro avg       0.25      0.50      0.33        14\n",
      "weighted avg       0.25      0.50      0.33        14\n",
      "\n"
     ]
    },
    {
     "name": "stderr",
     "output_type": "stream",
     "text": [
      "C:\\Users\\basha\\AppData\\Roaming\\Python\\Python310\\site-packages\\sklearn\\metrics\\_classification.py:1344: UndefinedMetricWarning: Precision is ill-defined and being set to 0.0 due to no predicted samples. Use `zero_division` parameter to control this behavior.\n",
      "  _warn_prf(average, modifier, msg_start, len(result))\n",
      "C:\\Users\\basha\\AppData\\Roaming\\Python\\Python310\\site-packages\\sklearn\\metrics\\_classification.py:1344: UndefinedMetricWarning: Precision and F-score are ill-defined and being set to 0.0 in labels with no predicted samples. Use `zero_division` parameter to control this behavior.\n",
      "  _warn_prf(average, modifier, msg_start, len(result))\n",
      "C:\\Users\\basha\\AppData\\Roaming\\Python\\Python310\\site-packages\\sklearn\\metrics\\_classification.py:1344: UndefinedMetricWarning: Precision and F-score are ill-defined and being set to 0.0 in labels with no predicted samples. Use `zero_division` parameter to control this behavior.\n",
      "  _warn_prf(average, modifier, msg_start, len(result))\n",
      "C:\\Users\\basha\\AppData\\Roaming\\Python\\Python310\\site-packages\\sklearn\\metrics\\_classification.py:1344: UndefinedMetricWarning: Precision and F-score are ill-defined and being set to 0.0 in labels with no predicted samples. Use `zero_division` parameter to control this behavior.\n",
      "  _warn_prf(average, modifier, msg_start, len(result))\n"
     ]
    }
   ],
   "source": [
    "# Calculate metrics\n",
    "acc = accuracy_score(y_test, y_pred)\n",
    "recall = recall_score(y_test, y_pred, average='binary')\n",
    "precision = precision_score(y_test, y_pred, average='binary')\n",
    "f1 = f1_score(y_test, y_pred, average='binary')\n",
    "# Print metrics\n",
    "print(f\"Accuracy: {acc}\")\n",
    "print(f\"Recall: {recall}\")\n",
    "print(f\"Precision: {precision}\")\n",
    "print(f\"F1 Score: {f1}\")\n",
    "print(\"\\nClass-wise metrics:\")\n",
    "class_report = classification_report(y_test, y_pred, target_names=['cat', 'dog'])\n",
    "print(class_report)"
   ]
  },
  {
   "cell_type": "code",
   "execution_count": 205,
   "metadata": {},
   "outputs": [
    {
     "data": {
      "image/png": "[encoded data removed]",
      "text/plain": [
       "<Figure size 800x800 with 2 Axes>"
      ]
     },
     "metadata": {},
     "output_type": "display_data"
    }
   ],
   "source": [
    "# Plot the confusion matrix\n",
    "cm = confusion_matrix(y_test, y_pred)\n",
    "\n",
    "# Plot the confusion matrix\n",
    "plt.figure(figsize=(8, 8))\n",
    "ax = sns.heatmap(cm, annot=True, fmt='d', cmap='Blues', \n",
    "                 xticklabels=['cat', 'dog'], \n",
    "                 yticklabels=['cat', 'dog'], \n",
    "                 annot_kws={\"size\": 16}, cbar=True, \n",
    "                 vmin=0, vmax=np.max(cm))\n",
    "\n",
    "plt.title('Confusion Matrix', fontsize=18)\n",
    "plt.ylabel('True Label', fontsize=20)\n",
    "plt.xlabel('Predicted Label', fontsize=20)\n",
    "plt.xticks(fontsize=10)\n",
    "plt.yticks(fontsize=10)\n",
    "plt.show()"
   ]
  },
  {
   "cell_type": "code",
   "execution_count": 206,
   "metadata": {},
   "outputs": [
    {
     "name": "stderr",
     "output_type": "stream",
     "text": [
      "WARNING:absl:Compiled the loaded model, but the compiled metrics have yet to be built. `model.compile_metrics` will be empty until you train or evaluate the model.\n"
     ]
    }
   ],
   "source": [
    "mdl = tf.keras.models.load_model('my_cnn_model.h5')"
   ]
  },
  {
   "cell_type": "code",
   "execution_count": 207,
   "metadata": {},
   "outputs": [],
   "source": [
    "def prepare_image(image_path):\n",
    "    # Load the image from the given path\n",
    "    img = image.load_img(image_path, target_size=(224, 224))  # Change the size to match your model's input size\n",
    "    img_array = image.img_to_array(img)  # Convert the image to a NumPy array\n",
    "    img_array = np.expand_dims(img_array, axis=0)  # Add a batch dimension\n",
    "    img_array = img_array / 255.0  # Normalize the image (if you did it during training)\n",
    "    return img_array"
   ]
  },
  {
   "cell_type": "code",
   "execution_count": 208,
   "metadata": {},
   "outputs": [],
   "source": [
    "def predict_image(image_path):\n",
    "    img_array = prepare_image(image_path)\n",
    "    prediction = mdl.predict(img_array)\n",
    "    \n",
    "    # Assuming the model output is a probability, you can threshold it\n",
    "    if prediction[0] > 0.5:\n",
    "        return \"Dog\"\n",
    "    else:\n",
    "        return \"Cat\""
   ]
  },
  {
   "attachments": {
    "cat.jpg": {
     "image/jpeg": "[encoded data removed]"
    }
   },
   "cell_type": "markdown",
   "metadata": {},
   "source": [
    "![cat.jpg](attachment:cat.jpg)\n",
    "this is the cat used to be predicted"
   ]
  },
  {
   "cell_type": "code",
   "execution_count": 209,
   "metadata": {},
   "outputs": [
    {
     "name": "stdout",
     "output_type": "stream",
     "text": [
      "\u001b[1m1/1\u001b[0m \u001b[32m━━━━━━━━━━━━━━━━━━━━\u001b[0m\u001b[37m\u001b[0m \u001b[1m0s\u001b[0m 70ms/step\n",
      "Cat\n"
     ]
    }
   ],
   "source": [
    "result = predict_image(\"C:\\\\Users\\\\basha\\\\OneDrive\\\\Desktop\\\\cat.jpg\")\n",
    "print(result)"
   ]
  }
 ],
 "metadata": {
  "kernelspec": {
   "display_name": "Python 3",
   "language": "python",
   "name": "python3"
  },
  "language_info": {
   "codemirror_mode": {
    "name": "ipython",
    "version": 3
   },
   "file_extension": ".py",
   "mimetype": "text/x-python",
   "name": "python",
   "nbconvert_exporter": "python",
   "pygments_lexer": "ipython3",
   "version": "3.10.7"
  }
 },
 "nbformat": 4,
 "nbformat_minor": 2
}
